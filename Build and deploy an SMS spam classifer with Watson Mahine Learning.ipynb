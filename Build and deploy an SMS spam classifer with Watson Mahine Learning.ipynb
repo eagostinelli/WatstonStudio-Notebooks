{
    "nbformat_minor": 2, 
    "cells": [
        {
            "source": "# Build and deploy an SMS spam classifer with Watson Mahine Learning\n**An Introduction to the Watson Machine Learning Python Client** <br> <br>\nThis notebook will show you how to build and deploy an SMS Spam Classifer with Watson Machine Learning and IBM Watson Studio. <br> We will use the new [Watson Machine Learning API Client for Python](http://wml-api-pyclient.mybluemix.net/) which is avialable on `PyPi`. \n______\nThis notebook was tested in a `Python 3.5` Environment. \nThis notebook can be used as a companion to another [tutorial on our blog](https://medium.com/@adammassachi/dsx-hybrid-mode-91b580450c5b).  <br>\n\n\n## Table of Contents\n1. [Load data](#load)\n2. [Build model](#build)\n3. [Save and deploy](#save)\n4. [Make API requests](#api)\n\n_____\n\n## 1. Load data <a id=\"load\"></a>\nFirst, install the Watson Machine Learning library via `pip` if you have not yet installed it. <br> We will use this library to communicate with Watson Machine Learning. The `python client` allows anyone with a Watson Machine Learning instance to programmatically save, load, and deploy models, among other tasks. ", 
            "cell_type": "markdown", 
            "metadata": {
                "collapsed": true
            }
        }, 
        {
            "execution_count": 13, 
            "cell_type": "code", 
            "metadata": {}, 
            "outputs": [
                {
                    "output_type": "stream", 
                    "name": "stdout", 
                    "text": "Requirement already up-to-date: watson-machine-learning-client in /gpfs/global_fs01/sym_shared/YPProdSpark/user/s93e-0248829109ff52-03536a3dc4c4/.local/lib/python3.5/site-packages\nRequirement already up-to-date: tqdm in /gpfs/global_fs01/sym_shared/YPProdSpark/user/s93e-0248829109ff52-03536a3dc4c4/.local/lib/python3.5/site-packages (from watson-machine-learning-client)\nRequirement already up-to-date: tabulate in /usr/local/src/conda3_runtime.v35/home/envs/DSX-Python35-Spark/lib/python3.5/site-packages (from watson-machine-learning-client)\nRequirement already up-to-date: urllib3 in /gpfs/global_fs01/sym_shared/YPProdSpark/user/s93e-0248829109ff52-03536a3dc4c4/.local/lib/python3.5/site-packages (from watson-machine-learning-client)\nRequirement already up-to-date: certifi in /gpfs/global_fs01/sym_shared/YPProdSpark/user/s93e-0248829109ff52-03536a3dc4c4/.local/lib/python3.5/site-packages (from watson-machine-learning-client)\nRequirement already up-to-date: pandas in /gpfs/global_fs01/sym_shared/YPProdSpark/user/s93e-0248829109ff52-03536a3dc4c4/.local/lib/python3.5/site-packages (from watson-machine-learning-client)\nRequirement already up-to-date: lomond in /gpfs/global_fs01/sym_shared/YPProdSpark/user/s93e-0248829109ff52-03536a3dc4c4/.local/lib/python3.5/site-packages (from watson-machine-learning-client)\nRequirement already up-to-date: ibm-cos-sdk in /gpfs/global_fs01/sym_shared/YPProdSpark/user/s93e-0248829109ff52-03536a3dc4c4/.local/lib/python3.5/site-packages (from watson-machine-learning-client)\nRequirement already up-to-date: requests in /gpfs/global_fs01/sym_shared/YPProdSpark/user/s93e-0248829109ff52-03536a3dc4c4/.local/lib/python3.5/site-packages (from watson-machine-learning-client)\nRequirement already up-to-date: pytz>=2011k in /gpfs/global_fs01/sym_shared/YPProdSpark/user/s93e-0248829109ff52-03536a3dc4c4/.local/lib/python3.5/site-packages (from pandas->watson-machine-learning-client)\nRequirement already up-to-date: numpy>=1.9.0 in /gpfs/global_fs01/sym_shared/YPProdSpark/user/s93e-0248829109ff52-03536a3dc4c4/.local/lib/python3.5/site-packages (from pandas->watson-machine-learning-client)\nRequirement already up-to-date: python-dateutil>=2.5.0 in /gpfs/global_fs01/sym_shared/YPProdSpark/user/s93e-0248829109ff52-03536a3dc4c4/.local/lib/python3.5/site-packages (from pandas->watson-machine-learning-client)\nRequirement already up-to-date: six>=1.10.0 in /usr/local/src/conda3_runtime.v35/home/envs/DSX-Python35-Spark/lib/python3.5/site-packages (from lomond->watson-machine-learning-client)\nRequirement already up-to-date: ibm-cos-sdk-core==2.*,>=2.0.0 in /gpfs/global_fs01/sym_shared/YPProdSpark/user/s93e-0248829109ff52-03536a3dc4c4/.local/lib/python3.5/site-packages (from ibm-cos-sdk->watson-machine-learning-client)\nRequirement already up-to-date: ibm-cos-sdk-s3transfer==2.*,>=2.0.0 in /gpfs/global_fs01/sym_shared/YPProdSpark/user/s93e-0248829109ff52-03536a3dc4c4/.local/lib/python3.5/site-packages (from ibm-cos-sdk->watson-machine-learning-client)\nRequirement already up-to-date: chardet<3.1.0,>=3.0.2 in /usr/local/src/conda3_runtime.v35/home/envs/DSX-Python35-Spark/lib/python3.5/site-packages (from requests->watson-machine-learning-client)\nRequirement already up-to-date: idna<2.8,>=2.5 in /gpfs/global_fs01/sym_shared/YPProdSpark/user/s93e-0248829109ff52-03536a3dc4c4/.local/lib/python3.5/site-packages (from requests->watson-machine-learning-client)\nRequirement already up-to-date: docutils>=0.10 in /usr/local/src/conda3_runtime.v35/home/envs/DSX-Python35-Spark/lib/python3.5/site-packages (from ibm-cos-sdk-core==2.*,>=2.0.0->ibm-cos-sdk->watson-machine-learning-client)\nRequirement already up-to-date: jmespath<1.0.0,>=0.7.1 in /usr/local/src/conda3_runtime.v35/home/envs/DSX-Python35-Spark/lib/python3.5/site-packages (from ibm-cos-sdk-core==2.*,>=2.0.0->ibm-cos-sdk->watson-machine-learning-client)\n"
                }
            ], 
            "source": "!pip install watson-machine-learning-client --upgrade"
        }, 
        {
            "source": "The data we are looking to classify are SMS Messages which have been labeled `spam` or `ham`. You can find the data in the community. You can either download the data set to your environment and add it to your project, or you can read the data directly into a data frame as shown below. For more details on loading and accessing data, see [Load and access data in a notebook](https://datascience.ibm.com/docs/content/analyze-data/load-and-access-data.html?context=analytics).", 
            "cell_type": "markdown", 
            "metadata": {}
        }, 
        {
            "source": "<!--comment: Simon, here you need to tell them how to access data. They can either (1) go to the community and download the csv with the 'add data' link above, \nor (2) import the csv directly as in the cell below. Either way, we should be explicit...  I'm trying to find a good example, and frankly, we don't have a really good one.\nHaving said that, you can have a look at https://github.com/IBMDataScience/sample-notebooks/blob/ec37c3f56f33cf8aa85c00e9081f13012ffd8fd5/Cloud/IPYNB/Watson%2Bconversation%2Bservice.ipynb\n-->", 
            "cell_type": "markdown", 
            "metadata": {}
        }, 
        {
            "execution_count": 14, 
            "cell_type": "code", 
            "metadata": {}, 
            "outputs": [], 
            "source": "import pandas as pd\ndf = pd.read_csv(\"https://dataplatform.ibm.com/exchange-api/v1/entries/e39fb7848165baca7fc0395025ba4e48/data?accessKey=36100ef896c27e41fdfc4a3029071d50\")"
        }, 
        {
            "source": "Our first step will be converting the string label into a numeric representation. <br> \nWe can use a `pandas.Series method`,  `factorize()[0]`, to convert strings into numeric factors.", 
            "cell_type": "markdown", 
            "metadata": {}
        }, 
        {
            "execution_count": 15, 
            "cell_type": "code", 
            "metadata": {}, 
            "outputs": [], 
            "source": "df = df[df.columns[:2]]\ndf.columns = ['ham', 'text']\ndf['label'] = df.ham.factorize()[0]\ndf['text'] = df.text.apply(lambda x: x.lower())"
        }, 
        {
            "execution_count": 16, 
            "cell_type": "code", 
            "metadata": {}, 
            "outputs": [
                {
                    "execution_count": 16, 
                    "metadata": {}, 
                    "data": {
                        "text/html": "<div>\n<style scoped>\n    .dataframe tbody tr th:only-of-type {\n        vertical-align: middle;\n    }\n\n    .dataframe tbody tr th {\n        vertical-align: top;\n    }\n\n    .dataframe thead th {\n        text-align: right;\n    }\n</style>\n<table border=\"1\" class=\"dataframe\">\n  <thead>\n    <tr style=\"text-align: right;\">\n      <th></th>\n      <th>ham</th>\n      <th>text</th>\n      <th>label</th>\n    </tr>\n  </thead>\n  <tbody>\n    <tr>\n      <th>0</th>\n      <td>ham</td>\n      <td>go until jurong point, crazy.. available only ...</td>\n      <td>0</td>\n    </tr>\n    <tr>\n      <th>1</th>\n      <td>ham</td>\n      <td>ok lar... joking wif u oni...</td>\n      <td>0</td>\n    </tr>\n    <tr>\n      <th>2</th>\n      <td>spam</td>\n      <td>free entry in 2 a wkly comp to win fa cup fina...</td>\n      <td>1</td>\n    </tr>\n    <tr>\n      <th>3</th>\n      <td>ham</td>\n      <td>u dun say so early hor... u c already then say...</td>\n      <td>0</td>\n    </tr>\n    <tr>\n      <th>4</th>\n      <td>ham</td>\n      <td>nah i don't think he goes to usf, he lives aro...</td>\n      <td>0</td>\n    </tr>\n    <tr>\n      <th>5</th>\n      <td>spam</td>\n      <td>freemsg hey there darling it's been 3 week's n...</td>\n      <td>1</td>\n    </tr>\n    <tr>\n      <th>6</th>\n      <td>ham</td>\n      <td>even my brother is not like to speak with me. ...</td>\n      <td>0</td>\n    </tr>\n    <tr>\n      <th>7</th>\n      <td>ham</td>\n      <td>as per your request 'melle melle (oru minnamin...</td>\n      <td>0</td>\n    </tr>\n    <tr>\n      <th>8</th>\n      <td>spam</td>\n      <td>winner!! as a valued network customer you have...</td>\n      <td>1</td>\n    </tr>\n    <tr>\n      <th>9</th>\n      <td>spam</td>\n      <td>had your mobile 11 months or more? u r entitle...</td>\n      <td>1</td>\n    </tr>\n  </tbody>\n</table>\n</div>", 
                        "text/plain": "    ham                                               text  label\n0   ham  go until jurong point, crazy.. available only ...      0\n1   ham                      ok lar... joking wif u oni...      0\n2  spam  free entry in 2 a wkly comp to win fa cup fina...      1\n3   ham  u dun say so early hor... u c already then say...      0\n4   ham  nah i don't think he goes to usf, he lives aro...      0\n5  spam  freemsg hey there darling it's been 3 week's n...      1\n6   ham  even my brother is not like to speak with me. ...      0\n7   ham  as per your request 'melle melle (oru minnamin...      0\n8  spam  winner!! as a valued network customer you have...      1\n9  spam  had your mobile 11 months or more? u r entitle...      1"
                    }, 
                    "output_type": "execute_result"
                }
            ], 
            "source": "df.head(10)"
        }, 
        {
            "source": "<a id=\"build\"></a>\n## 2. Build a model \nWe will use `scikit-learn` to create a `Naive Bayes` model. <br>We will use the `HashingVectorizer`, which converts the SMS\u2019 text into a matrix representation suitable for modeling.", 
            "cell_type": "markdown", 
            "metadata": {}
        }, 
        {
            "execution_count": 17, 
            "cell_type": "code", 
            "metadata": {}, 
            "outputs": [], 
            "source": "from sklearn.feature_extraction.text import HashingVectorizer\nvectorizer = HashingVectorizer(n_features=5000, stop_words='english', non_negative=True)"
        }, 
        {
            "source": "We need to connect the output of the `vectorizer` to the input of the model. We will use `Multinomial Naive Bayes`, a Naive Bayes classifier which works well with the representation of our features\u200a \u2014\u200a integer representations of the word frequencies.\n\n\nNext, we will use `train_test_split` in order to divide the data into `testing` and `training` sets so that we can evaluate the performance of the model.", 
            "cell_type": "markdown", 
            "metadata": {}
        }, 
        {
            "execution_count": 18, 
            "cell_type": "code", 
            "metadata": {}, 
            "outputs": [], 
            "source": "from sklearn.cross_validation import train_test_split\nx_train, x_test, y_train, y_test = train_test_split(df['text'], df['label'], random_state=0)"
        }, 
        {
            "source": "Next, we need to transform the text and fit the model.", 
            "cell_type": "markdown", 
            "metadata": {}
        }, 
        {
            "execution_count": 19, 
            "cell_type": "code", 
            "metadata": {}, 
            "outputs": [
                {
                    "output_type": "stream", 
                    "name": "stderr", 
                    "text": "/usr/local/src/conda3_runtime/home/envs/DSX-Python35-Spark/lib/python3.5/site-packages/sklearn/feature_extraction/hashing.py:94: DeprecationWarning: the option non_negative=True has been deprecated in 0.19 and will be removed in version 0.21.\n  \" in version 0.21.\", DeprecationWarning)\n/usr/local/src/conda3_runtime/home/envs/DSX-Python35-Spark/lib/python3.5/site-packages/sklearn/feature_extraction/hashing.py:94: DeprecationWarning: the option non_negative=True has been deprecated in 0.19 and will be removed in version 0.21.\n  \" in version 0.21.\", DeprecationWarning)\n"
                }
            ], 
            "source": "# first transform the text data\ntransformed_x = vectorizer.fit_transform(x_train)\n\n# import the modules and fit\nfrom sklearn.naive_bayes import MultinomialNB\nbn = MultinomialNB().fit(transformed_x, y_train)"
        }, 
        {
            "source": "We\u2019ve got a fit model in `bn`. Let\u2019s evaluate the performance on the test data after creating the pipeline.", 
            "cell_type": "markdown", 
            "metadata": {}
        }, 
        {
            "execution_count": 20, 
            "cell_type": "code", 
            "metadata": {}, 
            "outputs": [], 
            "source": "# make a pipe\nfrom sklearn.pipeline import make_pipeline\npipe = make_pipeline(vectorizer, bn)"
        }, 
        {
            "source": "The pipe will sequentially transform the data according to the transformers specified, terminating in what scikit-learn calls an estimator. <br>Then, we can call predict or score, and so on.", 
            "cell_type": "markdown", 
            "metadata": {}
        }, 
        {
            "execution_count": 21, 
            "cell_type": "code", 
            "metadata": {}, 
            "outputs": [
                {
                    "output_type": "stream", 
                    "name": "stderr", 
                    "text": "/usr/local/src/conda3_runtime/home/envs/DSX-Python35-Spark/lib/python3.5/site-packages/sklearn/feature_extraction/hashing.py:94: DeprecationWarning: the option non_negative=True has been deprecated in 0.19 and will be removed in version 0.21.\n  \" in version 0.21.\", DeprecationWarning)\n"
                }, 
                {
                    "execution_count": 21, 
                    "metadata": {}, 
                    "data": {
                        "text/plain": "array([[ 0.79965197,  0.20034803]])"
                    }, 
                    "output_type": "execute_result"
                }
            ], 
            "source": "pipe.predict_proba([\"URGENT! You have built a model - scroll down to see more\"])"
        }, 
        {
            "source": "Let's score.", 
            "cell_type": "markdown", 
            "metadata": {}
        }, 
        {
            "execution_count": 22, 
            "cell_type": "code", 
            "metadata": {}, 
            "outputs": [
                {
                    "output_type": "stream", 
                    "name": "stderr", 
                    "text": "/usr/local/src/conda3_runtime/home/envs/DSX-Python35-Spark/lib/python3.5/site-packages/sklearn/feature_extraction/hashing.py:94: DeprecationWarning: the option non_negative=True has been deprecated in 0.19 and will be removed in version 0.21.\n  \" in version 0.21.\", DeprecationWarning)\n"
                }, 
                {
                    "execution_count": 22, 
                    "metadata": {}, 
                    "data": {
                        "text/plain": "0.96197991391678628"
                    }, 
                    "output_type": "execute_result"
                }
            ], 
            "source": "pipe.score(x_test, y_test)"
        }, 
        {
            "source": "`96% accuracy`, not bad. You can experiment with different numbers of features and vectorizers for your model. You can also create other features that are not captured by the vectorizer, such as the length of the message. ", 
            "cell_type": "markdown", 
            "metadata": {}
        }, 
        {
            "source": "<a id=\"save\"></a>\n## 3. Save and deploy\nAfter creating a model, you might want to make use of its predictions later. In order to do this, we will persist models with Watson Machine Learning. With WML, you can easily `save` and `deploy` models, among other powerful features. `Saving` a model makes this model portable -- as long as you can connect to WML, you can load your saved models into your environment. `Deploying` a model exposes the predictive capacity of the model as an API endpoint, which you can consume in applications, for example. \n\nUse the client to save your model to the WML Repository. From there, you can load and deploy models as well. If you don't already have a WML account, you can get more details [here](https://dataplatform.ibm.com/docs/content/analyze-data/ml-setup.html?audience=wdp&context=analytics).\n\nFirst, we will import the library and specify our credentials. If you don't know where to find your credentials, they are available to you both in the Watson Studio Project and in IBM Cloud. ", 
            "cell_type": "markdown", 
            "metadata": {}
        }, 
        {
            "execution_count": 23, 
            "cell_type": "code", 
            "metadata": {
                "scrolled": true
            }, 
            "outputs": [], 
            "source": "from watson_machine_learning_client import WatsonMachineLearningAPIClient\n\nwml_credentials = {\n  \"username\": \"014aa88e-eb87-4395-98c1-61164738c55c\",\n  \"password\": \"964f0f2c-f70e-4a8a-9913-b80ccb5509a3\",\n  \"instance_id\": \"b2aba5d2-95e7-4155-a2f1-404fa8696294\",\n  \"url\": \"https://us-south.ml.cloud.ibm.com\"\n}\n\nclient = WatsonMachineLearningAPIClient(wml_credentials)"
        }, 
        {
            "source": "We have connected to our WML Repository using the python package and our credentials. Publishing the model will save the model to our repository. ", 
            "cell_type": "markdown", 
            "metadata": {}
        }, 
        {
            "execution_count": 24, 
            "cell_type": "code", 
            "metadata": {}, 
            "outputs": [], 
            "source": "metadata = {\n            client.repository.ModelMetaNames.NAME: 'SPAM_MODEL',\n            client.repository.ModelMetaNames.FRAMEWORK_NAME: 'scikit-learn',\n            client.repository.ModelMetaNames.RUNTIME_NAME: 'python',\n            client.repository.ModelMetaNames.RUNTIME_VERSION: '3.5'\n}"
        }, 
        {
            "execution_count": 25, 
            "cell_type": "code", 
            "metadata": {}, 
            "outputs": [], 
            "source": "# publish model \npublished_model_details = client.repository.store_model(model=pipe, meta_props=metadata, training_data=pd.DataFrame(df['text']), training_target=df['label'])"
        }, 
        {
            "source": "Now that we have saved the model to the repository, we can load it into a python object using it's `uid`. First, let's look at the code.", 
            "cell_type": "markdown", 
            "metadata": {}
        }, 
        {
            "execution_count": 26, 
            "cell_type": "code", 
            "metadata": {}, 
            "outputs": [
                {
                    "execution_count": 26, 
                    "metadata": {}, 
                    "data": {
                        "text/plain": "'e7811d8d-0f63-41c6-9810-b8341bd47b41'"
                    }, 
                    "output_type": "execute_result"
                }
            ], 
            "source": "# get my model ide\nguid = client.repository.get_model_uid(published_model_details)\nguid"
        }, 
        {
            "source": "Load the model using its id and the `repository.load()` function. ", 
            "cell_type": "markdown", 
            "metadata": {}
        }, 
        {
            "execution_count": 27, 
            "cell_type": "code", 
            "metadata": {}, 
            "outputs": [
                {
                    "execution_count": 27, 
                    "metadata": {}, 
                    "data": {
                        "text/plain": "sklearn.pipeline.Pipeline"
                    }, 
                    "output_type": "execute_result"
                }
            ], 
            "source": "mod = client.repository.load(guid)\ntype(mod)"
        }, 
        {
            "source": "Notice the type is an `sklearn` model, just as we created. ", 
            "cell_type": "markdown", 
            "metadata": {}
        }, 
        {
            "execution_count": 29, 
            "cell_type": "code", 
            "metadata": {}, 
            "outputs": [
                {
                    "execution_count": 29, 
                    "metadata": {}, 
                    "data": {
                        "text/plain": "array([[ 0.99370373,  0.00629627]])"
                    }, 
                    "output_type": "execute_result"
                }
            ], 
            "source": "# verify that the loaded model returns the same predictions as the model we developed in our environment. \nmod.predict_proba([\"hello are you ok?\"])"
        }, 
        {
            "source": "<a id=\"api\"></a>\n## 4. Test the API\nNow that we have successfully saved and loaded the model, we can create an API endpoint and make requests. ", 
            "cell_type": "markdown", 
            "metadata": {}
        }, 
        {
            "execution_count": 30, 
            "cell_type": "code", 
            "metadata": {}, 
            "outputs": [
                {
                    "output_type": "stream", 
                    "name": "stdout", 
                    "text": "\n\n#######################################################################################\n\nSynchronous deployment creation for uid: 'e7811d8d-0f63-41c6-9810-b8341bd47b41' started\n\n#######################################################################################\n\n\nINITIALIZING\nDEPLOY_SUCCESS\n\n\n------------------------------------------------------------------------------------------------\nSuccessfully finished deployment creation, deployment_uid='d546a118-a447-415b-ac53-cbd20821e19d'\n------------------------------------------------------------------------------------------------\n\n\n"
                }
            ], 
            "source": "scoring_endpoint = client.deployments.create(name=\"SPAM-NEW\", model_uid=guid)"
        }, 
        {
            "execution_count": 31, 
            "cell_type": "code", 
            "metadata": {}, 
            "outputs": [], 
            "source": "scoring_endpoint_url = scoring_endpoint['entity']['scoring_url']"
        }, 
        {
            "source": "Let's create some JSON to send. We will use `client.deployments.score(scoring_url, payload)`. [Read our docs](http://wml-api-pyclient.mybluemix.net/) for more details. ", 
            "cell_type": "markdown", 
            "metadata": {}
        }, 
        {
            "execution_count": 34, 
            "cell_type": "code", 
            "metadata": {}, 
            "outputs": [], 
            "source": "# create a payload\nmy_sms = \"free drink tonight if you are joining us in the\"\n# list of lists\npayload = {\"fields\": [\"text\"], \"values\": [[my_sms]]}\n\n# make a request\nresponse = client.deployments.score(scoring_url=scoring_endpoint_url, payload=payload)"
        }, 
        {
            "source": "Let's check out the response.", 
            "cell_type": "markdown", 
            "metadata": {}
        }, 
        {
            "execution_count": 35, 
            "cell_type": "code", 
            "metadata": {}, 
            "outputs": [
                {
                    "execution_count": 35, 
                    "metadata": {}, 
                    "data": {
                        "text/plain": "{'fields': ['prediction', 'probability'],\n 'values': [[0, [0.923727368280724, 0.07627263171927663]]]}"
                    }, 
                    "output_type": "execute_result"
                }
            ], 
            "source": "response"
        }, 
        {
            "source": "\n\n____________\n\n### Author\nAdam Massachi is a Data Scientist with the Watson Studio team at IBM. Before IBM, he worked on political campaigns, building and managing large volunteer operations and organizing campaign finance initiatives. Say hello [@adammassach](https://twitter.com/adammassach?lang=en)!\n\nCopyright \u00a9 IBM Corp. 2018. This notebook and its source code are released under the terms of the MIT License.", 
            "cell_type": "markdown", 
            "metadata": {}
        }, 
        {
            "source": "<div style=\"background:#F5F7FA; height:110px; padding: 2em; font-size:14px;\">\n<span style=\"font-size:18px;color:#152935;\">Love this notebook? </span>\n<span style=\"font-size:15px;color:#152935;float:right;margin-right:40px;\">Don't have an account yet?</span><br>\n<span style=\"color:#5A6872;\">Share it with your colleagues and help them discover the power of Watson Studio!</span>\n<span style=\"border: 1px solid #3d70b2;padding:8px;float:right;margin-right:40px; color:#3d70b2;\"><a href=\"https://ibm.co/wsnotebooks\" target=\"_blank\" style=\"color: #3d70b2;text-decoration: none;\">Sign Up</a></span><br>\n</div>", 
            "cell_type": "markdown", 
            "metadata": {}
        }
    ], 
    "metadata": {
        "kernelspec": {
            "display_name": "Python 3.5 with Spark 2.1", 
            "name": "python3-spark21", 
            "language": "python"
        }, 
        "language_info": {
            "mimetype": "text/x-python", 
            "nbconvert_exporter": "python", 
            "version": "3.5.4", 
            "name": "python", 
            "file_extension": ".py", 
            "pygments_lexer": "ipython3", 
            "codemirror_mode": {
                "version": 3, 
                "name": "ipython"
            }
        }
    }, 
    "nbformat": 4
}